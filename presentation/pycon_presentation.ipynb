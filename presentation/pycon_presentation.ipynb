{
 "cells": [
  {
   "cell_type": "markdown",
   "metadata": {},
   "source": [
    "# Ipywidgets (https://ipywidgets.readthedocs.io/en/stable/examples/Widget%20List.html)"
   ]
  },
  {
   "cell_type": "code",
   "execution_count": null,
   "metadata": {
    "tags": []
   },
   "outputs": [],
   "source": [
    "%pip install ipywidgets\n",
    "%pip install pandas"
   ]
  },
  {
   "cell_type": "code",
   "execution_count": null,
   "metadata": {},
   "outputs": [],
   "source": [
    "import ipywidgets\n",
    "import pandas as pd"
   ]
  },
  {
   "cell_type": "code",
   "execution_count": null,
   "metadata": {},
   "outputs": [],
   "source": [
    "name = ipywidgets.Text(description='name:')\n",
    "name"
   ]
  },
  {
   "cell_type": "code",
   "execution_count": null,
   "metadata": {},
   "outputs": [],
   "source": [
    "name.value"
   ]
  },
  {
   "cell_type": "markdown",
   "metadata": {},
   "source": [
    "# Guests Settings"
   ]
  },
  {
   "cell_type": "code",
   "execution_count": null,
   "metadata": {},
   "outputs": [],
   "source": [
    "class GuestSettings:\n",
    "    def __init__(self, name: str, side: str, people_invited_count: int, people_arrived_count:int, comments: str):\n",
    "        self.name = name\n",
    "        self.side = side\n",
    "        self.people_invited_count = people_invited_count\n",
    "        self.people_arrived_count = people_arrived_count\n",
    "        self.comments = comments\n"
   ]
  },
  {
   "cell_type": "markdown",
   "metadata": {},
   "source": [
    "# Guests Setting Vm"
   ]
  },
  {
   "cell_type": "code",
   "execution_count": null,
   "metadata": {},
   "outputs": [],
   "source": [
    "class GuestSettingsVm(ipywidgets.HBox):\n",
    "    def __init__(self):\n",
    "        self.guest_name = ipywidgets.Text(\n",
    "            placeholder='Add Guest...',\n",
    "            description='Guest Name:'\n",
    "        )\n",
    "        self.guest_side = ipywidgets.Dropdown(\n",
    "            options=['Bride', 'Groom'],\n",
    "            description='Guest Side:'\n",
    "        )\n",
    "        self.people_invited_count = ipywidgets.BoundedIntText(value=1, min=0, max=8, step=1, description='People Invited:')\n",
    "        self.people_arrived_count = ipywidgets.BoundedIntText(value=0, min=0, max=1, step=1,\n",
    "                                                              description='People Arrived:')\n",
    "        self.people_invited_count.observe(self.update_people_arrived_count_max, 'value')\n",
    "        self.comments = ipywidgets.Textarea(\n",
    "            placeholder='Comments...',\n",
    "            description='Comments:',\n",
    "            disabled=False\n",
    "        )\n",
    "        super().__init__(\n",
    "            [self.guest_name, self.guest_side, self.people_invited_count, self.people_arrived_count, self.comments])\n",
    "\n",
    "    def update_people_arrived_count_max(self, *args, **kwargs):\n",
    "        self.people_arrived_count.max = self.people_invited_count.value\n",
    "\n",
    "    @property\n",
    "    def guest_settings(self) -> GuestSettings:\n",
    "        return GuestSettings(name=self.guest_name.value, side=self.guest_side.value,\n",
    "                             people_invited_count=self.people_invited_count.value,\n",
    "                             people_arrived_count=self.people_arrived_count.value,\n",
    "                             comments=self.comments.value)\n",
    "    \n",
    "GuestSettingsVm()"
   ]
  },
  {
   "cell_type": "markdown",
   "metadata": {},
   "source": [
    "# RSVP Application"
   ]
  },
  {
   "cell_type": "code",
   "execution_count": null,
   "metadata": {},
   "outputs": [],
   "source": [
    "class RSVP(ipywidgets.VBox):\n",
    "    def __init__(self):\n",
    "        self.guests_setting_vms = ipywidgets.VBox([])\n",
    "        self.add_guests_button = ipywidgets.interactive(self.add_guest, {'manual': True, 'manual_name': 'Add Guest'})\n",
    "        super().__init__([self.add_guests_button, self.guests_setting_vms])\n",
    "        \n",
    "    def add_guest(self, *args, **kwargs):\n",
    "        guest_setting_list = list(self.guests_setting_vms.children)\n",
    "        guest_setting_list.append(GuestSettingsVm())\n",
    "        self.guests_setting_vms.children = tuple(guest_setting_list)\n",
    "        \n",
    "    @property\n",
    "    def guests(self) -> pd.DataFrame:\n",
    "        return pd.DataFrame([o.guest_settings.__dict__ for o in self.guests_setting_vms.children])\n",
    "    \n",
    "rsvp = RSVP()\n",
    "rsvp"
   ]
  },
  {
   "cell_type": "markdown",
   "metadata": {},
   "source": [
    "## RSVP Guests"
   ]
  },
  {
   "cell_type": "code",
   "execution_count": null,
   "metadata": {},
   "outputs": [],
   "source": [
    "rsvp.guests"
   ]
  },
  {
   "cell_type": "markdown",
   "metadata": {},
   "source": [
    "# Ipyaggrid"
   ]
  },
  {
   "cell_type": "code",
   "execution_count": null,
   "metadata": {
    "tags": []
   },
   "outputs": [],
   "source": [
    "%pip install ipyaggrid"
   ]
  },
  {
   "cell_type": "code",
   "execution_count": null,
   "metadata": {},
   "outputs": [],
   "source": [
    "import ipyaggrid"
   ]
  },
  {
   "cell_type": "markdown",
   "metadata": {},
   "source": [
    "## Grid Settings ( https://dgothrek.gitlab.io/ipyaggrid/guide/create.html#sample-setup )"
   ]
  },
  {
   "cell_type": "code",
   "execution_count": null,
   "metadata": {},
   "outputs": [],
   "source": [
    "column_defs = [{'headerName':'Name','field':'name'},\n",
    "               {'headerName':'Side','field':'side'},\n",
    "               {'headerName':'Pepole Invited','field':'people_invited_count'},\n",
    "               {'headerName':'Pepole Arrived','field':'people_arrived_count'},\n",
    "               {'headerName':'Comments','field':'comments'},\n",
    "              ]\n",
    "\n",
    "grid_options = {\n",
    "    'columnDefs' : column_defs,\n",
    "    'enableSorting': True,\n",
    "    'enableFilter': True,\n",
    "}\n",
    "\n",
    "ipyaggrid.Grid(grid_data=rsvp.guests, grid_options=grid_options,)"
   ]
  },
  {
   "cell_type": "markdown",
   "metadata": {},
   "source": [
    "# RSVP Application with Grid"
   ]
  },
  {
   "cell_type": "code",
   "execution_count": null,
   "metadata": {},
   "outputs": [],
   "source": [
    "class RSVP(ipywidgets.VBox):\n",
    "    def __init__(self):\n",
    "        self.guests_setting_vms = ipywidgets.VBox([])\n",
    "        self.add_guests_button = ipywidgets.interactive(self.add_guest, {'manual': True, 'manual_name': 'Add Guest'})\n",
    "        column_defs = [{'headerName':'Name','field':'name'},\n",
    "                       {'headerName':'Side','field':'side'},\n",
    "                       {'headerName':'Pepole Invited','field':'people_invited_count'},\n",
    "                       {'headerName':'Pepole Arrived','field':'people_arrived_count'},\n",
    "                       {'headerName':'Comments','field':'comments'},\n",
    "                      ]\n",
    "        grid_options = {\n",
    "            'columnDefs' : column_defs,\n",
    "            'enableSorting': True,\n",
    "            'enableFilter': True,\n",
    "        }\n",
    "        self.guests_grid = ipyaggrid.Grid(grid_data=self.guests, grid_options=grid_options,)\n",
    "        super().__init__([self.add_guests_button, self.guests_setting_vms, self.guests_grid])\n",
    "        \n",
    "    def add_guest(self, *args, **kwargs):\n",
    "        guest_setting_list = list(self.guests_setting_vms.children)\n",
    "        guest_setting_list.append(GuestSettingsVm())\n",
    "        self.guests_setting_vms.children = tuple(guest_setting_list)\n",
    "        \n",
    "    @property\n",
    "    def guests(self) -> pd.DataFrame:\n",
    "        return pd.DataFrame([o.guest_settings.__dict__ for o in self.guests_setting_vms.children])\n",
    "    \n",
    "rsvp = RSVP()\n",
    "rsvp"
   ]
  },
  {
   "cell_type": "markdown",
   "metadata": {},
   "source": [
    "# Expand Ipywidgets VBox"
   ]
  },
  {
   "cell_type": "code",
   "execution_count": null,
   "metadata": {},
   "outputs": [],
   "source": [
    "from typing import List, Callable\n",
    "\n",
    "\n",
    "class VBoxObservable(ipywidgets.VBox):\n",
    "    def __init__(self, *args, **kwargs):\n",
    "        super().__init__(*args, **kwargs)\n",
    "        self.observers: List[Callable] = list()\n",
    "        self.make_observe_vbox_observable_and_trigger_value_change()\n",
    "\n",
    "    def add_observer(self, observer: Callable):\n",
    "        self.observers.append(observer)\n",
    "\n",
    "    def add_observe_to_internal_box_children(self, box: ipywidgets.Box):\n",
    "        for item in box.children:\n",
    "            if len(getattr(item, 'children', [])) > 0:\n",
    "                self.add_observe_to_internal_box_children(item)\n",
    "            else:\n",
    "                item.observe(self.on_value_change, names='value')\n",
    "\n",
    "    def make_observe_vbox_observable_and_trigger_value_change(self):\n",
    "        self.add_observe_to_internal_box_children(self)\n",
    "        self.on_value_change()\n",
    "\n",
    "    def on_value_change(self, *args, **kwargs):\n",
    "        for observer in self.observers:\n",
    "            observer(*args, **kwargs)"
   ]
  },
  {
   "cell_type": "markdown",
   "metadata": {},
   "source": [
    "# RSVP Application with VBoxObserverable"
   ]
  },
  {
   "cell_type": "code",
   "execution_count": null,
   "metadata": {},
   "outputs": [],
   "source": [
    "class RSVP(ipywidgets.VBox):\n",
    "    def __init__(self):\n",
    "        self.guests_setting_vms = VBoxObservable([])\n",
    "        self.guests_setting_vms.add_observer(self.on_guests_settings_vm_change)\n",
    "        self.add_guests_button = ipywidgets.interactive(self.add_guest, {'manual': True, 'manual_name': 'Add Guest'})\n",
    "        column_defs = [{'headerName': 'Name', 'field': 'name'},\n",
    "                       {'headerName': 'Side', 'field': 'side'},\n",
    "                    {'headerName': 'People Invited', 'field': 'people_invited_count'},\n",
    "                       {'headerName': 'People Arrived', 'field': 'people_arrived_count'},\n",
    "                       {'headerName': 'Comments', 'field': 'comments'},\n",
    "                       ]\n",
    "        grid_options = {\n",
    "            'columnDefs': column_defs,\n",
    "            'enableSorting': True,\n",
    "            'enableFilter': True,\n",
    "            'enableEditing': True,\n",
    "        }\n",
    "        self.guests_grid = ipyaggrid.Grid(grid_data=self.guests, grid_options=grid_options, )\n",
    "        super().__init__([self.add_guests_button, self.guests_setting_vms, self.guests_grid])\n",
    "\n",
    "    def on_guests_settings_vm_change(self, *args, **kwargs):\n",
    "        self.guests_grid.update_grid_data(self.guests)\n",
    "\n",
    "    def add_guest(self, *args, **kwargs):\n",
    "        guest_setting_list = list(self.guests_setting_vms.children)\n",
    "        guest_setting_list.append(GuestSettingsVm())\n",
    "        self.guests_setting_vms.children = tuple(guest_setting_list)\n",
    "        self.guests_setting_vms.make_observe_vbox_observable_and_trigger_value_change()\n",
    "\n",
    "    @property\n",
    "    def guests(self):\n",
    "        return pd.DataFrame([o.guest_settings.__dict__ for o in self.guests_setting_vms.children])\n",
    "\n",
    "    \n",
    "rsvp = RSVP()\n",
    "rsvp"
   ]
  },
  {
   "cell_type": "code",
   "execution_count": null,
   "metadata": {},
   "outputs": [],
   "source": [
    "rsvp.guests"
   ]
  },
  {
   "cell_type": "code",
   "execution_count": null,
   "metadata": {},
   "outputs": [],
   "source": []
  }
 ],
 "metadata": {
  "kernelspec": {
   "display_name": "Python 3",
   "language": "python",
   "name": "python3"
  },
  "language_info": {
   "codemirror_mode": {
    "name": "ipython",
    "version": 3
   },
   "file_extension": ".py",
   "mimetype": "text/x-python",
   "name": "python",
   "nbconvert_exporter": "python",
   "pygments_lexer": "ipython3",
   "version": "3.7.8"
  }
 },
 "nbformat": 4,
 "nbformat_minor": 4
}
